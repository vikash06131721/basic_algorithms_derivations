{
 "cells": [
  {
   "cell_type": "markdown",
   "metadata": {},
   "source": [
    "# Problem Statement\n",
    "\n",
    "Predict next possible-word [n-gram approach]\n",
    "\n",
    "Given a phrase, predict the next possible word as per the corpus with an\n",
    "incremental approach.\n",
    "\n",
    "Input: the play opens with\n",
    "\n",
    "Output: ['hermia who']\n",
    "\n"
   ]
  },
  {
   "cell_type": "markdown",
   "metadata": {},
   "source": [
    "# Approach\n",
    "\n",
    "A Hand Written approach to the problem, here we developed probabilistic approach to the problem. More reccent approach tend towards using RNNs/LSTM to develop language models using character modelling."
   ]
  },
  {
   "cell_type": "markdown",
   "metadata": {},
   "source": [
    "<img src=\"l1_1.jpg\">\n",
    "<img src=\"l1_2.jpg\">\n",
    "<img src=\"l1_3.jpg\">"
   ]
  },
  {
   "cell_type": "markdown",
   "metadata": {},
   "source": [
    "# Libraries"
   ]
  },
  {
   "cell_type": "code",
   "execution_count": 1,
   "metadata": {},
   "outputs": [
    {
     "name": "stderr",
     "output_type": "stream",
     "text": [
      "Using TensorFlow backend.\n"
     ]
    }
   ],
   "source": [
    "from libraries import *"
   ]
  },
  {
   "cell_type": "markdown",
   "metadata": {},
   "source": [
    "# Basic Functions"
   ]
  },
  {
   "cell_type": "code",
   "execution_count": 2,
   "metadata": {},
   "outputs": [],
   "source": [
    "def clean_text(x):\n",
    "    x= re.sub('[^A-Za-z0-9]+', ' ', x)\n",
    "    x=x.lower()\n",
    "    x = x.strip(' ')\n",
    "    x = x.split(' ')\n",
    "    return_ =[]\n",
    "    for w in x:\n",
    "        if len(w)>1:\n",
    "            return_.append(w)\n",
    "            \n",
    "    return ' '.join(return_)\n",
    "\n",
    "\n",
    "\n",
    "def build_conditional_probabilities(corpus):\n",
    "    \"\"\"\n",
    "    Function to demonstrate to find out probailities of P(x|y) or based on bigrams\n",
    "    \"\"\"\n",
    "    # First we parse the string to build a double dimension dictionnary that\n",
    "    # returns the conditional probabilities.\n",
    "\n",
    "    # We parse the string to build a first dictionnary indicating for each\n",
    "    # word, what are the words that follow it in the string. Repeated next\n",
    "    # words are kept so we use a list and not a set. \n",
    "\n",
    "    tokenized_string = corpus.split()\n",
    "    previous_word = \"\"\n",
    "    dictionnary = defaultdict(list)\n",
    "\n",
    "    for current_word in tokenized_string:\n",
    "        if previous_word != \"\":\n",
    "            dictionnary[previous_word].append(current_word)\n",
    "        previous_word = current_word\n",
    "\n",
    "    # We know parse dictionnary to compute the probability each observed\n",
    "    # next word for each word in the dictionnary. \n",
    "\n",
    "    for key in dictionnary.keys():\n",
    "        next_words = dictionnary[key]\n",
    "        unique_words = set(next_words) # removes duplicated\n",
    "        nb_words = len(next_words)\n",
    "        probabilities_given_key = {}\n",
    "        for unique_word in unique_words:\n",
    "            probabilities_given_key[unique_word] = float(next_words.count(unique_word)) / nb_words\n",
    "        dictionnary[key] = probabilities_given_key\n",
    "\n",
    "    return dictionnary"
   ]
  },
  {
   "cell_type": "code",
   "execution_count": 3,
   "metadata": {},
   "outputs": [
    {
     "data": {
      "text/plain": [
       "'the play consists of four interconnecting plots connected by celebration of the wedding of duke theseus of athens and the amazon queen hippolyta which are set simultaneously in the woodland and in the realm of fairyland under the light of the moon the play opens with hermia who is in love with lysander resistant to her father egeus demand that she wed demetrius whom he has arranged for her to marry helena hermia best friend pines unrequitedly for demetrius who broke up with her to be with hermia enraged egeus invokes an ancient athenian law before duke theseus whereby daughter needs to marry suitor chosen by her father or else face death theseus offers her another choice lifelong chastity as nun worshipping the goddess artemis peter quince and his fellow players nick bottom francis flute robin starveling tom snout and snug plan to put on play for the wedding of the duke and the queen the most lamentable comedy and most cruel death of pyramus and thisbe quince reads the names of characters and bestows them on the players nick bottom who is playing the main role of pyramus is over enthusiastic and wants to dominate others by suggesting himself for the characters of thisbe the lion and pyramus at the same time quince insists that bottom can only play the role of pyramus bottom would also rather be tyrant and recites some lines of ercles bottom is told by quince that he would do the lion so terribly as to frighten the duchess and ladies enough for the duke and lords to have the players hanged snug remarks that he needs the lion part because he is slow of study quince assures snug that the role of the lion is nothing but roaring quince then ends the meeting telling his actors at the duke oak we meet'"
      ]
     },
     "execution_count": 3,
     "metadata": {},
     "output_type": "execute_result"
    }
   ],
   "source": [
    "corpus = open('data.txt','r').read()\n",
    "corpus = corpus.split('\\n')\n",
    "corpus = ' '.join(corpus)\n",
    "corpus = clean_text(corpus)\n",
    "corpus"
   ]
  },
  {
   "cell_type": "code",
   "execution_count": 4,
   "metadata": {},
   "outputs": [],
   "source": [
    "corpus_words = corpus.split(' ')"
   ]
  },
  {
   "cell_type": "raw",
   "metadata": {},
   "source": [
    "We will demonstrate on how to find the conditional probabilities for P(x|y) through \"build_conditional_probabilities\". Basically for given word y we try and predict the next word. We can do that similarly for trigrams also which is basically P(X|Y,W), basically we try and predict the next word given two previous words Y,W. For this we utilize the \"ConditionalFreqDist\" function from NLTK."
   ]
  },
  {
   "cell_type": "markdown",
   "metadata": {},
   "source": [
    "# Demonstration On The Function \"build_conditional_probabilities\""
   ]
  },
  {
   "cell_type": "code",
   "execution_count": 5,
   "metadata": {},
   "outputs": [
    {
     "data": {
      "text/plain": [
       "{'interconnecting': 1.0}"
      ]
     },
     "execution_count": 5,
     "metadata": {},
     "output_type": "execute_result"
    }
   ],
   "source": [
    "cp = build_conditional_probabilities(corpus)\n",
    "sentence = 'play consists of four'\n",
    "\n",
    "cp['four']"
   ]
  },
  {
   "cell_type": "code",
   "execution_count": 11,
   "metadata": {},
   "outputs": [
    {
     "data": {
      "text/plain": [
       "{'hippolyta': 0.5, 'the': 0.5}"
      ]
     },
     "execution_count": 11,
     "metadata": {},
     "output_type": "execute_result"
    }
   ],
   "source": [
    "cp['queen']"
   ]
  },
  {
   "cell_type": "raw",
   "metadata": {},
   "source": [
    "So as we see, although P(X|'four') is correctly predicted as 'interconnecting', but when we try to predict P(X|'queen') it gives two options of equal probabilities, hence we need to use trigrams to predict the next word."
   ]
  },
  {
   "cell_type": "code",
   "execution_count": 12,
   "metadata": {},
   "outputs": [],
   "source": [
    "cfreq_brown_2gram = nltk.ConditionalFreqDist(nltk.bigrams(corpus_words))"
   ]
  },
  {
   "cell_type": "code",
   "execution_count": 13,
   "metadata": {},
   "outputs": [
    {
     "data": {
      "text/plain": [
       "FreqDist({'interconnecting': 1})"
      ]
     },
     "execution_count": 13,
     "metadata": {},
     "output_type": "execute_result"
    }
   ],
   "source": [
    "#similar results can be achieved by ConditionalFreqDist\n",
    "cfreq_brown_2gram['four']"
   ]
  },
  {
   "cell_type": "code",
   "execution_count": 14,
   "metadata": {},
   "outputs": [],
   "source": [
    "#constructing trigrams ConditionalFreqDist\n",
    "b_trigrams = nltk.trigrams(corpus_words)\n",
    "condition_pairs = (((w0, w1), w2) for w0, w1, w2 in b_trigrams)\n",
    "cfd_brown = nltk.ConditionalFreqDist(condition_pairs)"
   ]
  },
  {
   "cell_type": "raw",
   "metadata": {},
   "source": [
    "Hence we will use the \"ConditionalFreqDist\" for trigrams to get results for prediction of next words. The illustration of \"build_conditional_probabilities\" was to demonstrate that how well we have grabbed the concept and understood the problem and whether we can code from scratch the concept of \"conditional proibability\"."
   ]
  },
  {
   "cell_type": "markdown",
   "metadata": {},
   "source": [
    "# Prediction Of Next Words"
   ]
  },
  {
   "cell_type": "code",
   "execution_count": 15,
   "metadata": {},
   "outputs": [],
   "source": [
    "def predict_next_words(sentence,num_words_to_predict,type_=None):\n",
    "    sentence = clean_text(sentence)\n",
    "    df = pd.DataFrame()\n",
    "    sentence = sentence.lower()\n",
    "    pred=[]\n",
    "    for i in range(num_words_to_predict):\n",
    "        idf = pd.DataFrame(columns=['sentence','predicted_word','sentence_plus_predicted_word'],index=[i])\n",
    "        sent = sentence.split(' ')\n",
    "        idf['sentence'] = sentence\n",
    "        word_prev =tuple(sentence.split(' ')[-2:])\n",
    "        pred_word = list(cfd_brown.get(word_prev).keys())[0]\n",
    "        idf['predicted_word']=pred_word\n",
    "        \n",
    "        sentence = sentence+' '+pred_word\n",
    "        idf['sentence_plus_predicted_word']=sentence\n",
    "        df = df.append(idf)\n",
    "    if type_ in ['df','dataframe']:\n",
    "        return df\n",
    "    elif type_ in ['list']:\n",
    "        return df['sentence_plus_predicted_word'].tolist()\n",
    "    else:\n",
    "        return df"
   ]
  },
  {
   "cell_type": "code",
   "execution_count": 16,
   "metadata": {},
   "outputs": [
    {
     "data": {
      "text/plain": [
       "['the play opens with hermia',\n",
       " 'the play opens with hermia who',\n",
       " 'the play opens with hermia who is',\n",
       " 'the play opens with hermia who is in',\n",
       " 'the play opens with hermia who is in love']"
      ]
     },
     "execution_count": 16,
     "metadata": {},
     "output_type": "execute_result"
    }
   ],
   "source": [
    "predict_next_words(sentence='The play opens with',num_words_to_predict=5,type_='list')"
   ]
  }
 ],
 "metadata": {
  "kernelspec": {
   "display_name": "Python 3",
   "language": "python",
   "name": "python3"
  },
  "language_info": {
   "codemirror_mode": {
    "name": "ipython",
    "version": 3
   },
   "file_extension": ".py",
   "mimetype": "text/x-python",
   "name": "python",
   "nbconvert_exporter": "python",
   "pygments_lexer": "ipython3",
   "version": "3.6.8"
  }
 },
 "nbformat": 4,
 "nbformat_minor": 2
}
